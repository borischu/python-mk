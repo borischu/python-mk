{
 "cells": [
  {
   "cell_type": "code",
   "execution_count": 1,
   "metadata": {},
   "outputs": [],
   "source": [
    "import spotipy\n",
    "from spotipy.oauth2 import SpotifyOAuth"
   ]
  },
  {
   "cell_type": "code",
   "execution_count": 2,
   "metadata": {},
   "outputs": [],
   "source": [
    "# Auth\n",
    "sp = spotipy.Spotify(auth_manager=SpotifyOAuth(client_id=\"YOUR_CLIENT_ID\",\n",
    "                                               client_secret=\"YOUR_CLIENT_SECRET\",\n",
    "                                               redirect_uri=\"http://localhost:8000\",\n",
    "                                               scope=\"user-top-read\"))"
   ]
  },
  {
   "cell_type": "code",
   "execution_count": 3,
   "metadata": {},
   "outputs": [
    {
     "name": "stdout",
     "output_type": "stream",
     "text": [
      "0 Lovesick Girls\n",
      "1 How You Like That\n",
      "2 Pretty Savage\n",
      "3 Ice Cream (with Selena Gomez)\n",
      "4 Bet You Wanna (feat. Cardi B)\n",
      "5 Ice Cream (with Selena Gomez)\n",
      "6 Kill This Love\n",
      "7 Crazy Over You\n",
      "8 Love To Hate Me\n",
      "9 DDU-DU DDU-DU\n",
      "10 You Never Know\n",
      "11 As If It's Your Last\n",
      "12 Sour Candy (with BLACKPINK)\n",
      "13 BOOMBAYAH\n",
      "14 Sour Candy (with BLACKPINK)\n",
      "15 WHISTLE\n",
      "16 PLAYING WITH FIRE\n",
      "17 Kiss and Make Up\n",
      "18 STAY\n",
      "19 SO HOT - THEBLACKLABEL REMIX BLACKPINK ARENA TOUR 2018 \"SPECIAL FINAL IN KYOCERA DOME OSAKA\"\n"
     ]
    }
   ],
   "source": [
    "results = sp.search(q='BLACKPINK', limit=20)\n",
    "for idx, track in enumerate(results['tracks']['items']):\n",
    "    print(idx, track['name'])"
   ]
  },
  {
   "cell_type": "code",
   "execution_count": 21,
   "metadata": {},
   "outputs": [],
   "source": [
    "# Top 20 Medium Term (6 months) Songs\n",
    "results = sp.current_user_top_tracks(time_range='medium_term', limit=20)"
   ]
  },
  {
   "cell_type": "code",
   "execution_count": 22,
   "metadata": {},
   "outputs": [
    {
     "name": "stdout",
     "output_type": "stream",
     "text": [
      "0 Edge Of My Seat - Radio Version // TobyMac\n",
      "1 Lovesick Girls // BLACKPINK\n",
      "2 How You Like That // BLACKPINK\n",
      "3 Innerbloom // RÜFÜS DU SOL\n",
      "4 In Your Eyes // The Weeknd\n",
      "5 Murder Weapon - Original Mix // 16BL\n",
      "6 Sour Candy (with BLACKPINK) // Lady Gaga\n",
      "7 Tromb // Pryda\n",
      "8 No Love // Eminem\n",
      "9 Blinding Lights // The Weeknd\n",
      "10 Empire State Of Mind // JAY-Z\n",
      "11 Edge Of My Seat // TobyMac\n",
      "12 Blank // Disfigure\n",
      "13 Genghis Khan // Miike Snow\n",
      "14 Drop The World // Lil Wayne\n",
      "15 You Never Know // BLACKPINK\n",
      "16 Say So // Doja Cat\n",
      "17 Broken Vessels (Amazing Grace) - Live // Hillsong Worship\n",
      "18 Ice Cream (with Selena Gomez) // BLACKPINK\n",
      "19 No Church In The Wild // JAY-Z\n"
     ]
    }
   ],
   "source": [
    "for i, item in enumerate(results['items']):\n",
    "    print(i, item['name'], '//', item['artists'][0]['name'])"
   ]
  },
  {
   "cell_type": "code",
   "execution_count": null,
   "metadata": {},
   "outputs": [],
   "source": []
  },
  {
   "cell_type": "code",
   "execution_count": null,
   "metadata": {},
   "outputs": [],
   "source": []
  },
  {
   "cell_type": "code",
   "execution_count": null,
   "metadata": {},
   "outputs": [],
   "source": []
  },
  {
   "cell_type": "code",
   "execution_count": null,
   "metadata": {},
   "outputs": [],
   "source": []
  },
  {
   "cell_type": "code",
   "execution_count": null,
   "metadata": {},
   "outputs": [],
   "source": []
  }
 ],
 "metadata": {
  "kernelspec": {
   "display_name": "Python 3",
   "language": "python",
   "name": "python3"
  },
  "language_info": {
   "codemirror_mode": {
    "name": "ipython",
    "version": 3
   },
   "file_extension": ".py",
   "mimetype": "text/x-python",
   "name": "python",
   "nbconvert_exporter": "python",
   "pygments_lexer": "ipython3",
   "version": "3.7.6"
  }
 },
 "nbformat": 4,
 "nbformat_minor": 4
}
