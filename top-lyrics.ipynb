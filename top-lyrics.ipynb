{
 "cells": [
  {
   "cell_type": "code",
   "execution_count": 1,
   "metadata": {},
   "outputs": [],
   "source": [
    "import spotipy\n",
    "from spotipy.oauth2 import SpotifyOAuth\n",
    "import bs4\n",
    "from bs4 import BeautifulSoup as soup\n",
    "import re\n",
    "import requests\n",
    "import matplotlib.pyplot as pPlot\n",
    "from wordcloud import WordCloud, STOPWORDS, ImageColorGenerator\n",
    "import numpy as npy\n",
    "from PIL import Image, ImageDraw, ImageFont"
   ]
  },
  {
   "cell_type": "code",
   "execution_count": 2,
   "metadata": {},
   "outputs": [],
   "source": [
    "# Auth\n",
    "sp = spotipy.Spotify(auth_manager=SpotifyOAuth(client_id=\"de15a53e9d52431bac9984eff92785d2\",\n",
    "                                               client_secret=\"1fecaa0507d5437baf56def0cde149dc\",\n",
    "                                               redirect_uri=\"http://localhost:8000\",\n",
    "                                               scope=\"user-top-read\"))"
   ]
  },
  {
   "cell_type": "code",
   "execution_count": 3,
   "metadata": {},
   "outputs": [
    {
     "name": "stdout",
     "output_type": "stream",
     "text": [
      "0 How You Like That\n",
      "1 Lovesick Girls\n",
      "2 Pretty Savage\n",
      "3 Ice Cream (with Selena Gomez)\n",
      "4 Ice Cream (with Selena Gomez)\n",
      "5 Kill This Love\n",
      "6 Bet You Wanna (feat. Cardi B)\n",
      "7 DDU-DU DDU-DU\n",
      "8 Love To Hate Me\n",
      "9 Crazy Over You\n",
      "10 You Never Know\n",
      "11 As If It's Your Last\n",
      "12 Sour Candy (with BLACKPINK)\n",
      "13 BOOMBAYAH\n",
      "14 Sour Candy (with BLACKPINK)\n",
      "15 WHISTLE\n",
      "16 Kiss and Make Up\n",
      "17 PLAYING WITH FIRE\n",
      "18 SO HOT - THEBLACKLABEL REMIX BLACKPINK ARENA TOUR 2018 \"SPECIAL FINAL IN KYOCERA DOME OSAKA\"\n",
      "19 Blackpink Cocktail\n"
     ]
    }
   ],
   "source": [
    "results = sp.search(q='BLACKPINK', limit=20)\n",
    "for idx, track in enumerate(results['tracks']['items']):\n",
    "    print(idx, track['name'])"
   ]
  },
  {
   "cell_type": "code",
   "execution_count": 4,
   "metadata": {},
   "outputs": [],
   "source": [
    "# Top 20 Medium Term (6 months) Songs\n",
    "results = sp.current_user_top_tracks(time_range='medium_term', limit=20)"
   ]
  },
  {
   "cell_type": "code",
   "execution_count": 5,
   "metadata": {},
   "outputs": [
    {
     "name": "stdout",
     "output_type": "stream",
     "text": [
      "0 Edge Of My Seat - Radio Version // TobyMac\n",
      "1 Lovesick Girls // BLACKPINK\n",
      "2 Innerbloom // RÜFÜS DU SOL\n",
      "3 How You Like That // BLACKPINK\n",
      "4 Edge Of My Seat // TobyMac\n",
      "5 Blinding Lights // The Weeknd\n",
      "6 In Your Eyes // The Weeknd\n",
      "7 Murder Weapon - Original Mix // 16BL\n",
      "8 Sour Candy (with BLACKPINK) // Lady Gaga\n",
      "9 Tromb // Pryda\n",
      "10 No Love // Eminem\n",
      "11 Empire State Of Mind // JAY-Z\n",
      "12 Blank // Disfigure\n",
      "13 You Never Know // BLACKPINK\n",
      "14 Genghis Khan // Miike Snow\n",
      "15 Drop The World // Lil Wayne\n",
      "16 Holding Out for a Hero - From \"Footloose\" Soundtrack // Bonnie Tyler\n",
      "17 Say So // Doja Cat\n",
      "18 Broken Vessels (Amazing Grace) - Live // Hillsong Worship\n",
      "19 No Church In The Wild // JAY-Z\n"
     ]
    }
   ],
   "source": [
    "for i, item in enumerate(results['items']):\n",
    "    print(i, item['name'], '//', item['artists'][0]['name'])"
   ]
  },
  {
   "cell_type": "code",
   "execution_count": 6,
   "metadata": {},
   "outputs": [
    {
     "name": "stdout",
     "output_type": "stream",
     "text": [
      "https://genius.com/TobyMac-Edge-Of-My-Seat--Radio-Version-lyrics\n",
      "https://genius.com/BLACKPINK-Lovesick-Girls-lyrics\n",
      "https://genius.com/RFS-DU-SOL-Innerbloom-lyrics\n",
      "https://genius.com/BLACKPINK-How-You-Like-That-lyrics\n",
      "https://genius.com/TobyMac-Edge-Of-My-Seat-lyrics\n",
      "https://genius.com/The-Weeknd-Blinding-Lights-lyrics\n",
      "https://genius.com/The-Weeknd-In-Your-Eyes-lyrics\n",
      "https://genius.com/16BL-Murder-Weapon--Original-Mix-lyrics\n",
      "https://genius.com/Lady-Gaga-Sour-Candy-with-BLACKPINK-lyrics\n",
      "https://genius.com/Pryda-Tromb-lyrics\n",
      "https://genius.com/Eminem-No-Love-lyrics\n",
      "https://genius.com/JAYZ-Empire-State-Of-Mind-lyrics\n",
      "https://genius.com/Disfigure-Blank-lyrics\n",
      "https://genius.com/BLACKPINK-You-Never-Know-lyrics\n",
      "https://genius.com/Miike-Snow-Genghis-Khan-lyrics\n",
      "https://genius.com/Lil-Wayne-Drop-The-World-lyrics\n",
      "https://genius.com/Bonnie-Tyler-Holding-Out-for-a-Hero--From-Footloose-Soundtrack-lyrics\n",
      "https://genius.com/Doja-Cat-Say-So-lyrics\n",
      "https://genius.com/Hillsong-Worship-Broken-Vessels-Amazing-Grace--Live-lyrics\n",
      "https://genius.com/JAYZ-No-Church-In-The-Wild-lyrics\n",
      "https://genius.com/BLACKPINK-Ice-Cream-with-Selena-Gomez-lyrics\n",
      "https://genius.com/Calvin-Harris-Flashback--Eric-Prydz-Remix-lyrics\n",
      "https://genius.com/The-Weeknd-Heartless-lyrics\n",
      "https://genius.com/Chris-Malinchak-The-Fourth--Original-Mix-lyrics\n",
      "https://genius.com/The-Weeknd-After-Hours-lyrics\n",
      "https://genius.com/JAYZ-Run-This-Town-lyrics\n",
      "https://genius.com/Miguel-Sure-Thing-lyrics\n",
      "https://genius.com/Bethel-Music-Jesus-We-Love-You--Live-lyrics\n",
      "https://genius.com/Passion-Pit-Take-a-Walk-lyrics\n",
      "https://genius.com/BLACKPINK-Dont-Know-What-To-Do-lyrics\n"
     ]
    }
   ],
   "source": [
    "#Time Range: Long_Term (few years), Medium_term (6 months), Short_term (4 weeks)\n",
    "results = sp.current_user_top_tracks(time_range='medium_term', limit=30)\n",
    "\n",
    "# need to filter accents and 'feat' and 'Shane & shane'\n",
    "genius_weblinks = []\n",
    "for i, item in enumerate(results['items']):\n",
    "    artist_replace_holder = re.sub('[^A-Za-z0-9 ]+', '', item['artists'][0]['name']).replace(' ','-')\n",
    "    name_replace_holder = re.sub('[^A-Za-z0-9 ]+', '', item['name']).replace(' ','-')\n",
    "    genius_weblinks.append('https://genius.com/' + artist_replace_holder + '-' + name_replace_holder + '-' + 'lyrics')\n",
    "    print('https://genius.com/' + artist_replace_holder + '-' + name_replace_holder + '-' + 'lyrics')"
   ]
  },
  {
   "cell_type": "code",
   "execution_count": 20,
   "metadata": {},
   "outputs": [
    {
     "name": "stdout",
     "output_type": "stream",
     "text": [
      "\n",
      "\n",
      "[Intro]\n",
      "Yeah\n",
      "\n",
      "[Verse 1]\n",
      "I've been tryna call\n",
      "I've been on my own for long enough\n",
      "Maybe you can show me how to love, maybe\n",
      "I'm going through withdrawals\n",
      "You don't even have to do too much\n",
      "You can turn me on with just a touch, baby\n",
      "\n",
      "[Pre-Chorus]\n",
      "I look around and\n",
      "Sin City's cold and empty (Oh)\n",
      "No one's around to judge me (Oh)\n",
      "I can't see clearly when you're gone\n",
      "\n",
      "[Chorus]\n",
      "I said, ooh, I'm blinded by the lights\n",
      "No, I can't sleep until I feel your touch\n",
      "I said, ooh, I'm drowning in the night\n",
      "Oh, when I'm like this, you're the one I trust\n",
      "Hey, hey, hey\n",
      "\n",
      "[Verse 2]\n",
      "I'm running out of time\n",
      "'Cause I can see the sun light up the sky\n",
      "So I hit the road in overdrive, baby, oh\n",
      "\n",
      "[Pre-Chorus]\n",
      "The city's cold and empty (Oh)\n",
      "No one's around to judge me (Oh)\n",
      "I can't see clearly when you're gone\n",
      "\n",
      "[Chorus]\n",
      "I said, ooh, I'm blinded by the lights\n",
      "No, I can't sleep until I feel your touch\n",
      "I said, ooh, I'm drowning in the night\n",
      "Oh, when I'm like this, you're the one I trust\n",
      "\n",
      "[Bridge]\n",
      "I'm just calling back to let you know (Back to let you know)\n",
      "I could never say it on the phone (Say it on the phone)\n",
      "Will never let you go this time (Ooh)\n",
      "\n",
      "[Chorus]\n",
      "I said, ooh, I'm blinded by the lights\n",
      "No, I can't sleep until I feel your touch\n",
      "Hey, hey, hey\n",
      "Hey, hey, hey\n",
      "\n",
      "[Outro]\n",
      "I said, ooh, I'm blinded by the lights\n",
      "No, I can't sleep until I feel your touch\n",
      "\n",
      "\n"
     ]
    }
   ],
   "source": [
    "page = requests.get(genius_weblinks[5])\n",
    "html = soup(page.text, 'html.parser')\n",
    "\n",
    "lyrics1 = html.find(\"div\", class_=\"lyrics\")\n",
    "lyrics2 = html.find(\"div\", class_=\"Lyrics__Container-sc-1ynbvzw-2 jgQsqn\")\n",
    "if lyrics1:\n",
    "    lyrics = lyrics1.get_text()\n",
    "elif lyrics2:\n",
    "    lyrics = lyrics2.get_text()\n",
    "elif lyrics1 == lyrics2 == None:\n",
    "    lyrics = None\n",
    "\n",
    "# lyrics = lyrics.split(\"\\n\")\n",
    "print(lyrics)"
   ]
  },
  {
   "cell_type": "code",
   "execution_count": 21,
   "metadata": {},
   "outputs": [],
   "source": [
    "image = Image.open('background.jpg')\n",
    " \n",
    "# initialise the drawing context with\n",
    "# the image object as background\n",
    " \n",
    "draw = ImageDraw.Draw(image)\n",
    "\n",
    "# create font object with the font file and specify\n",
    "# desired size\n",
    " \n",
    "font = ImageFont.truetype('Roboto-Bold.ttf', size=45)\n",
    " \n",
    "# starting position of the message\n",
    " \n",
    "(x, y) = (50, 50)\n",
    "message = lyrics\n",
    "color = 'rgb(255, 0, 0)' # red color\n",
    " \n",
    "# draw the message on the background\n",
    " \n",
    "draw.text((x, y), message, fill=color, font=font)\n",
    "# (x, y) = (150, 150)\n",
    "# name = 'Vinay'\n",
    "# color = 'rgb(255, 255, 255)' # white color\n",
    "# draw.text((x, y), name, fill=color, font=font)\n",
    " \n",
    "# save the edited image\n",
    " \n",
    "image.save('test.png')"
   ]
  },
  {
   "cell_type": "code",
   "execution_count": null,
   "metadata": {},
   "outputs": [],
   "source": []
  },
  {
   "cell_type": "code",
   "execution_count": null,
   "metadata": {},
   "outputs": [],
   "source": []
  },
  {
   "cell_type": "code",
   "execution_count": null,
   "metadata": {},
   "outputs": [],
   "source": []
  },
  {
   "cell_type": "code",
   "execution_count": null,
   "metadata": {},
   "outputs": [],
   "source": []
  }
 ],
 "metadata": {
  "kernelspec": {
   "display_name": "Python 3",
   "language": "python",
   "name": "python3"
  },
  "language_info": {
   "codemirror_mode": {
    "name": "ipython",
    "version": 3
   },
   "file_extension": ".py",
   "mimetype": "text/x-python",
   "name": "python",
   "nbconvert_exporter": "python",
   "pygments_lexer": "ipython3",
   "version": "3.8.5"
  }
 },
 "nbformat": 4,
 "nbformat_minor": 4
}
